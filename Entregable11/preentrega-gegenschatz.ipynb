{
 "cells": [
  {
   "cell_type": "code",
   "execution_count": 2,
   "metadata": {},
   "outputs": [
    {
     "name": "stderr",
     "output_type": "stream",
     "text": [
      "/opt/anaconda3/lib/python3.7/site-packages/statsmodels/tools/_testing.py:19: FutureWarning: pandas.util.testing is deprecated. Use the functions in the public API at pandas.testing instead.\n",
      "  import pandas.util.testing as tm\n"
     ]
    }
   ],
   "source": [
    "# Importamos las librerías estándar\n",
    "import numpy as np\n",
    "import pandas as pd\n",
    "import matplotlib.pyplot as plt\n",
    "import seaborn as sns\n",
    "import sklearn\n",
    "import math"
   ]
  },
  {
   "cell_type": "code",
   "execution_count": null,
   "metadata": {},
   "outputs": [],
   "source": [
    "# Descargamos los datos\n",
    "url = 'https://drive.google.com/file/d/1lqdL5E3pjC0ISjsEe_F1N8xIKK8y-0nz/view?usp=sharing'\n",
    "file_id = url.split('/')[-2]\n",
    "download_url = 'https://drive.google.com/uc?id=' + file_id\n",
    "\n",
    "df = pd.read_csv(download_url)"
   ]
  },
  {
   "cell_type": "code",
   "execution_count": null,
   "metadata": {},
   "outputs": [],
   "source": [
    "# Link al repo con información adicional\n",
    "# https://github.com/santy-gegenschatz/CoderHouse-25570-Proyecto-Spotify"
   ]
  },
  {
   "cell_type": "code",
   "execution_count": null,
   "metadata": {},
   "outputs": [],
   "source": [
    "# Limpiamos los datos\n",
    "df = df.set_index('id')\n",
    "df = df.dropna()\n",
    "df = df.drop_duplicates()\n",
    "df.shape"
   ]
  },
  {
   "cell_type": "code",
   "execution_count": null,
   "metadata": {
    "scrolled": false
   },
   "outputs": [],
   "source": [
    "# Describimos los datos\n",
    "df.describe(include = 'all').T"
   ]
  },
  {
   "cell_type": "code",
   "execution_count": null,
   "metadata": {},
   "outputs": [],
   "source": [
    "# Antes de hacer el análisis, vamos a hacer una variable que promedie cada una de las 3 variables diferentes por álbum\n",
    "df['average_duration'] = ( df['t_dur0'] + df['t_dur1'] + df['t_dur2'] ) / 3\n",
    "df['average_dance'] = ( df['t_dance0'] + df['t_dance1'] + df['t_dance2'] ) / 3\n",
    "df['average_energy'] = ( df['t_energy0'] + df['t_energy1'] + df['t_energy2'] ) / 3\n",
    "df['average_mode'] = ( df['t_mode0'] + df['t_mode1'] + df['t_mode2'] ) / 3\n",
    "df['average_speech'] = ( df['t_speech0'] + df['t_speech1'] + df['t_speech2'] ) / 3\n",
    "df['average_acous'] = ( df['t_acous0'] + df['t_acous1'] + df['t_acous2'] ) / 3\n",
    "df['average_ins'] = ( df['t_ins0'] + df['t_ins1'] + df['t_ins2'] ) / 3\n",
    "df['average_live'] = ( df['t_live0'] + df['t_live1'] + df['t_live2'] ) / 3\n",
    "df['average_val'] = ( df['t_val0'] + df['t_val1'] + df['t_val2'] ) / 3\n",
    "df['average_tempo'] = ( df['t_tempo0'] + df['t_tempo1'] + df['t_tempo2'] ) / 3\n",
    "df['average_sig'] = ( df['t_sig0'] + df['t_sig1'] + df['t_sig2'] ) / 3"
   ]
  },
  {
   "cell_type": "code",
   "execution_count": null,
   "metadata": {
    "scrolled": true
   },
   "outputs": [],
   "source": [
    "df.describe().T"
   ]
  },
  {
   "cell_type": "code",
   "execution_count": null,
   "metadata": {},
   "outputs": [],
   "source": [
    "# Ahora hacemos un nuevo dataframe con las columnas promediadas y la columna de salida (popularity)\n",
    "df2 = df[['average_duration', 'average_dance', 'average_energy', 'average_mode', 'average_speech', 'average_acous', 'average_live', 'average_val', 'average_tempo', 'average_sig', 'popularity']].copy()"
   ]
  },
  {
   "cell_type": "code",
   "execution_count": null,
   "metadata": {
    "scrolled": true
   },
   "outputs": [],
   "source": [
    "df2.describe().T"
   ]
  },
  {
   "cell_type": "code",
   "execution_count": null,
   "metadata": {},
   "outputs": [],
   "source": [
    "df2.head()"
   ]
  },
  {
   "cell_type": "code",
   "execution_count": null,
   "metadata": {},
   "outputs": [],
   "source": [
    "# Ahora podemos entrenar un modelo en función de todas las variables numéricas que prediga la popularidad"
   ]
  },
  {
   "cell_type": "code",
   "execution_count": null,
   "metadata": {},
   "outputs": [],
   "source": [
    "# Para el análisis multivariado, vamos a realizar 3 gráficos.\n",
    "# Uno es un pairplot, otro es un gráifco radial y otro es un gráfico en 3d."
   ]
  },
  {
   "cell_type": "markdown",
   "metadata": {},
   "source": [
    "## Pairplot"
   ]
  },
  {
   "cell_type": "code",
   "execution_count": 29,
   "metadata": {},
   "outputs": [],
   "source": [
    "# Para el pairplot vamos a tomar la categoría popularity y la vamos a partir en tres, y vamos a graficar el pairplot con un hue de cada una de esas 3 categorías"
   ]
  },
  {
   "cell_type": "code",
   "execution_count": 21,
   "metadata": {},
   "outputs": [],
   "source": [
    "def categorize(value):\n",
    "    if (value <= 33):\n",
    "        return \"LOW\"\n",
    "    elif (value <= 67):\n",
    "        return \"MEDIUM\"\n",
    "    else:\n",
    "        return \"HIGH\""
   ]
  },
  {
   "cell_type": "code",
   "execution_count": 22,
   "metadata": {},
   "outputs": [],
   "source": [
    "df2['type_of_popularity'] = df2['popularity'].apply(lambda value: categorize(value))"
   ]
  },
  {
   "cell_type": "code",
   "execution_count": 23,
   "metadata": {
    "scrolled": true
   },
   "outputs": [
    {
     "data": {
      "text/html": [
       "<div>\n",
       "<style scoped>\n",
       "    .dataframe tbody tr th:only-of-type {\n",
       "        vertical-align: middle;\n",
       "    }\n",
       "\n",
       "    .dataframe tbody tr th {\n",
       "        vertical-align: top;\n",
       "    }\n",
       "\n",
       "    .dataframe thead th {\n",
       "        text-align: right;\n",
       "    }\n",
       "</style>\n",
       "<table border=\"1\" class=\"dataframe\">\n",
       "  <thead>\n",
       "    <tr style=\"text-align: right;\">\n",
       "      <th></th>\n",
       "      <th>average_duration</th>\n",
       "      <th>average_dance</th>\n",
       "      <th>average_energy</th>\n",
       "      <th>average_mode</th>\n",
       "      <th>average_speech</th>\n",
       "      <th>average_acous</th>\n",
       "      <th>average_live</th>\n",
       "      <th>average_val</th>\n",
       "      <th>average_tempo</th>\n",
       "      <th>average_sig</th>\n",
       "      <th>popularity</th>\n",
       "      <th>type_of_popularity</th>\n",
       "    </tr>\n",
       "    <tr>\n",
       "      <th>id</th>\n",
       "      <th></th>\n",
       "      <th></th>\n",
       "      <th></th>\n",
       "      <th></th>\n",
       "      <th></th>\n",
       "      <th></th>\n",
       "      <th></th>\n",
       "      <th></th>\n",
       "      <th></th>\n",
       "      <th></th>\n",
       "      <th></th>\n",
       "      <th></th>\n",
       "    </tr>\n",
       "  </thead>\n",
       "  <tbody>\n",
       "    <tr>\n",
       "      <th>0</th>\n",
       "      <td>192284.000000</td>\n",
       "      <td>0.536667</td>\n",
       "      <td>0.458667</td>\n",
       "      <td>0.666667</td>\n",
       "      <td>0.048967</td>\n",
       "      <td>0.490333</td>\n",
       "      <td>0.091233</td>\n",
       "      <td>0.779000</td>\n",
       "      <td>133.243333</td>\n",
       "      <td>3.333333</td>\n",
       "      <td>51</td>\n",
       "      <td>MEDIUM</td>\n",
       "    </tr>\n",
       "    <tr>\n",
       "      <th>1</th>\n",
       "      <td>195199.666667</td>\n",
       "      <td>0.779000</td>\n",
       "      <td>0.658333</td>\n",
       "      <td>0.000000</td>\n",
       "      <td>0.202100</td>\n",
       "      <td>0.109367</td>\n",
       "      <td>0.114333</td>\n",
       "      <td>0.413333</td>\n",
       "      <td>139.028000</td>\n",
       "      <td>4.000000</td>\n",
       "      <td>67</td>\n",
       "      <td>MEDIUM</td>\n",
       "    </tr>\n",
       "    <tr>\n",
       "      <th>2</th>\n",
       "      <td>154768.333333</td>\n",
       "      <td>0.555000</td>\n",
       "      <td>0.487000</td>\n",
       "      <td>0.666667</td>\n",
       "      <td>0.272667</td>\n",
       "      <td>0.240847</td>\n",
       "      <td>0.286733</td>\n",
       "      <td>0.521333</td>\n",
       "      <td>122.268667</td>\n",
       "      <td>4.000000</td>\n",
       "      <td>81</td>\n",
       "      <td>HIGH</td>\n",
       "    </tr>\n",
       "    <tr>\n",
       "      <th>3</th>\n",
       "      <td>203866.333333</td>\n",
       "      <td>0.628333</td>\n",
       "      <td>0.585000</td>\n",
       "      <td>1.000000</td>\n",
       "      <td>0.027467</td>\n",
       "      <td>0.333333</td>\n",
       "      <td>0.203333</td>\n",
       "      <td>0.556333</td>\n",
       "      <td>114.783333</td>\n",
       "      <td>4.000000</td>\n",
       "      <td>53</td>\n",
       "      <td>MEDIUM</td>\n",
       "    </tr>\n",
       "    <tr>\n",
       "      <th>4</th>\n",
       "      <td>140693.000000</td>\n",
       "      <td>0.638000</td>\n",
       "      <td>0.302333</td>\n",
       "      <td>1.000000</td>\n",
       "      <td>0.071500</td>\n",
       "      <td>0.711333</td>\n",
       "      <td>0.270667</td>\n",
       "      <td>0.533000</td>\n",
       "      <td>116.460000</td>\n",
       "      <td>4.000000</td>\n",
       "      <td>70</td>\n",
       "      <td>HIGH</td>\n",
       "    </tr>\n",
       "  </tbody>\n",
       "</table>\n",
       "</div>"
      ],
      "text/plain": [
       "    average_duration  average_dance  average_energy  average_mode  \\\n",
       "id                                                                  \n",
       "0      192284.000000       0.536667        0.458667      0.666667   \n",
       "1      195199.666667       0.779000        0.658333      0.000000   \n",
       "2      154768.333333       0.555000        0.487000      0.666667   \n",
       "3      203866.333333       0.628333        0.585000      1.000000   \n",
       "4      140693.000000       0.638000        0.302333      1.000000   \n",
       "\n",
       "    average_speech  average_acous  average_live  average_val  average_tempo  \\\n",
       "id                                                                            \n",
       "0         0.048967       0.490333      0.091233     0.779000     133.243333   \n",
       "1         0.202100       0.109367      0.114333     0.413333     139.028000   \n",
       "2         0.272667       0.240847      0.286733     0.521333     122.268667   \n",
       "3         0.027467       0.333333      0.203333     0.556333     114.783333   \n",
       "4         0.071500       0.711333      0.270667     0.533000     116.460000   \n",
       "\n",
       "    average_sig  popularity type_of_popularity  \n",
       "id                                              \n",
       "0      3.333333          51             MEDIUM  \n",
       "1      4.000000          67             MEDIUM  \n",
       "2      4.000000          81               HIGH  \n",
       "3      4.000000          53             MEDIUM  \n",
       "4      4.000000          70               HIGH  "
      ]
     },
     "execution_count": 23,
     "metadata": {},
     "output_type": "execute_result"
    }
   ],
   "source": [
    "df2.head()"
   ]
  },
  {
   "cell_type": "code",
   "execution_count": null,
   "metadata": {},
   "outputs": [],
   "source": []
  }
 ],
 "metadata": {
  "kernelspec": {
   "display_name": "Python 3",
   "language": "python",
   "name": "python3"
  },
  "language_info": {
   "codemirror_mode": {
    "name": "ipython",
    "version": 3
   },
   "file_extension": ".py",
   "mimetype": "text/x-python",
   "name": "python",
   "nbconvert_exporter": "python",
   "pygments_lexer": "ipython3",
   "version": "3.7.4"
  }
 },
 "nbformat": 4,
 "nbformat_minor": 2
}
